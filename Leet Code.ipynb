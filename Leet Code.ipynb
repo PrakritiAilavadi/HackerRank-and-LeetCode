{
 "cells": [
  {
   "cell_type": "markdown",
   "id": "c76e90ac",
   "metadata": {},
   "source": [
    "# Easy Problems"
   ]
  },
  {
   "cell_type": "markdown",
   "id": "e9f53d68",
   "metadata": {},
   "source": [
    "### 1. 2 Sum"
   ]
  },
  {
   "cell_type": "code",
   "execution_count": 3,
   "id": "d67a5d97",
   "metadata": {},
   "outputs": [
    {
     "name": "stdout",
     "output_type": "stream",
     "text": [
      "3\n",
      "4\n",
      "2\n"
     ]
    },
    {
     "data": {
      "text/plain": [
       "[1, 2]"
      ]
     },
     "execution_count": 3,
     "metadata": {},
     "output_type": "execute_result"
    }
   ],
   "source": [
    "def twoSum(nums, target):\n",
    "        ans_list = []\n",
    "        \n",
    "        for i in range(0, len(nums)):\n",
    "            diff = target - nums[i]\n",
    "            print(diff)\n",
    "            for j in range(i+1, len(nums)):\n",
    "                if nums[j] == diff:\n",
    "                    ans_list.append(i)\n",
    "                    ans_list.append(j)\n",
    "                    \n",
    "        \n",
    "        return ans_list\n",
    "    \n",
    "    \n",
    "twoSum([3, 2, 4], 6)"
   ]
  },
  {
   "cell_type": "code",
   "execution_count": null,
   "id": "b88a4758",
   "metadata": {},
   "outputs": [],
   "source": [
    "# Optimal solution: O(n) time complexity - using dictionary and mapping the complement of the existing number\n",
    "\n",
    "ans_list = []\n",
    "diff_list = {}\n",
    "        \n",
    "for i in range(0, len(nums)):\n",
    "    diff = target - nums[i]\n",
    "            #print(diff)\n",
    "            \n",
    "    if diff in diff_list:\n",
    "        return [diff_list[diff], i]\n",
    "            \n",
    "    diff_list[nums[i]] = i\n",
    "                    \n",
    "        \n",
    "    return ans_list"
   ]
  },
  {
   "cell_type": "markdown",
   "id": "d6d2746b",
   "metadata": {},
   "source": [
    "<br>"
   ]
  },
  {
   "cell_type": "markdown",
   "id": "a010ee96",
   "metadata": {},
   "source": [
    "### 2. Palindrome Number\n",
    "https://leetcode.com/problems/palindrome-number/"
   ]
  },
  {
   "cell_type": "code",
   "execution_count": 4,
   "id": "088d5c59",
   "metadata": {},
   "outputs": [
    {
     "name": "stdout",
     "output_type": "stream",
     "text": [
      "True\n",
      "False\n",
      "False\n"
     ]
    }
   ],
   "source": [
    "def is_palindrome(x):\n",
    "    str_int = str(x)\n",
    "        \n",
    "    if len(str_int) == 1:\n",
    "        return True\n",
    "        \n",
    "    for i in range(0, len(str_int)):\n",
    "        if str_int[i] != str_int[len(str_int) - 1 -i]:\n",
    "            return False\n",
    "            break\n",
    "            \n",
    "    return True\n",
    "    \n",
    "print(is_palindrome(121))\n",
    "print(is_palindrome(10))\n",
    "print(is_palindrome(-121))"
   ]
  },
  {
   "cell_type": "markdown",
   "id": "c9093197",
   "metadata": {},
   "source": [
    "<br>"
   ]
  },
  {
   "cell_type": "markdown",
   "id": "f3eeff77",
   "metadata": {},
   "source": [
    "### 3. Longest common prefix\n",
    "https://leetcode.com/problems/longest-common-prefix/"
   ]
  },
  {
   "cell_type": "code",
   "execution_count": 1,
   "id": "d7a6477d",
   "metadata": {},
   "outputs": [
    {
     "data": {
      "text/plain": [
       "'fl'"
      ]
     },
     "execution_count": 1,
     "metadata": {},
     "output_type": "execute_result"
    }
   ],
   "source": [
    "def longestCommonPrefix(strs) -> str:\n",
    "        # finding the smallest word in the array\n",
    "        smallest_word = strs[0]\n",
    "        len_smallest_word = len(strs[0])\n",
    "        prefix_str = \"\"\n",
    "        \n",
    "        for i in strs:\n",
    "            if len(i) < len_smallest_word:\n",
    "                smallest_word = i\n",
    "                len_smallest_word = len(i)\n",
    "            \n",
    "        flag = True\n",
    "        \n",
    "        # for each letter in the smallest_word\n",
    "        for j in range(0, len(smallest_word)):\n",
    "            for word in strs:\n",
    "                if smallest_word[j] != word[j]:\n",
    "                    flag = False\n",
    "                    break\n",
    "            if flag == False:\n",
    "                break\n",
    "            prefix_str += smallest_word[j]  \n",
    "                    \n",
    "                    \n",
    "        return prefix_str\n",
    "    \n",
    "    \n",
    "longestCommonPrefix(['flower', 'flow', 'flight'])"
   ]
  },
  {
   "cell_type": "markdown",
   "id": "bf87fb59",
   "metadata": {},
   "source": [
    "<br>"
   ]
  },
  {
   "cell_type": "markdown",
   "id": "725cbb42",
   "metadata": {},
   "source": [
    "### Valid Parenthesis\n",
    "https://leetcode.com/problems/valid-parentheses/"
   ]
  },
  {
   "cell_type": "code",
   "execution_count": 4,
   "id": "0926e858",
   "metadata": {},
   "outputs": [
    {
     "name": "stdout",
     "output_type": "stream",
     "text": [
      "True\n",
      "False\n",
      "False\n"
     ]
    }
   ],
   "source": [
    "# using stack\n",
    "\n",
    "def is_valid_parenthesis(s):\n",
    "    # push open brackets to stack and pop element if \n",
    "    # the corresponding closed bracket is encountered\n",
    "    # then pop the open bracket\n",
    "        \n",
    "    open_brackets = ['(', '{', '[']\n",
    "    closed_brackets =[')', '}', ']']\n",
    "    stack_brackets = []\n",
    "        \n",
    "    for i in s:\n",
    "        if i in open_brackets:\n",
    "            stack_brackets.append(i)\n",
    "        elif i in closed_brackets:\n",
    "            # the top most element of stack should correspond to the\n",
    "            # correct bracket\n",
    "            position = closed_brackets.index(i)\n",
    "            if len(stack_brackets) > 0 and open_brackets[position] == stack_brackets[len(stack_brackets)-1]:\n",
    "                stack_brackets.pop()\n",
    "            else:\n",
    "                return False\n",
    "        \n",
    "    if len(stack_brackets) == 0:\n",
    "        return True\n",
    "    else:\n",
    "        return False\n",
    "\n",
    "print(is_valid_parenthesis('{[]}'))\n",
    "\n",
    "print(is_valid_parenthesis('{[}'))\n",
    "\n",
    "print(is_valid_parenthesis(')'))"
   ]
  },
  {
   "cell_type": "code",
   "execution_count": null,
   "id": "73fec4cb",
   "metadata": {},
   "outputs": [],
   "source": []
  }
 ],
 "metadata": {
  "kernelspec": {
   "display_name": "Python 3 (ipykernel)",
   "language": "python",
   "name": "python3"
  },
  "language_info": {
   "codemirror_mode": {
    "name": "ipython",
    "version": 3
   },
   "file_extension": ".py",
   "mimetype": "text/x-python",
   "name": "python",
   "nbconvert_exporter": "python",
   "pygments_lexer": "ipython3",
   "version": "3.8.12"
  }
 },
 "nbformat": 4,
 "nbformat_minor": 5
}
